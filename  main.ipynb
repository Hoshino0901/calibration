{
 "cells": [
  {
   "cell_type": "code",
   "execution_count": null,
   "metadata": {},
   "outputs": [],
   "source": [
    "import math\n",
    "import numpy as np\n",
    "import matplotlib.pyplot as plt\n",
    "import sys\n",
    "sys.path.append('./lib')\n",
    "from Calibrator import Calibrator\n",
    "from FX_params import FX_params\n",
    "from FX_market_data import  FX_market_data\n",
    "from Calibrated_params import Calibrated_params\n",
    "from Strike_calculator import Strike_calcurator"
   ]
  },
  {
   "cell_type": "markdown",
   "metadata": {},
   "source": [
    "#### input parameters here"
   ]
  },
  {
   "cell_type": "code",
   "execution_count": null,
   "metadata": {},
   "outputs": [],
   "source": [
    "# input parameters here\n",
    "\n",
    "# foreign rate\n",
    "r_f = 3.46\n",
    "#  domestic rate\n",
    "r_d = 2.94\n",
    "# term from spot date to Fixing date\n",
    "T = 1.0\n",
    "\n",
    "# ATM volatility\n",
    "sigma_atm = 18.25\n",
    "# butterfly 25 volatility\n",
    "sigma_bf_25 = (0.950 - sigma_atm)\n",
    "# risk riversal 25 volatility\n",
    "sigma_rr_25 = -0.600 / 100\n",
    "# butterfly 10 volatility\n",
    "sigma_bf_10 = (3.806 - sigma_atm)\n",
    "# risk riversal 10 volatility\n",
    "sigma_rr_10 = -1.208\n",
    "\n",
    "# spot rate\n",
    "spot = 1.3465\n",
    "\n",
    "# fly adjustment\n",
    "fly_adjust_param = 0.\n",
    "\n",
    "# initial SABR parameters\n",
    "ini_alpha = 0.17431060\n",
    "ini_nu = 0.81694072\n",
    "ini_rho = -0.11268306\n",
    "#initial smile strike\n",
    "ini_K_25_d_p = 1.2034\n",
    "ini_K_25_d_c = 1.5410\n",
    "ini_K_10_d_p = 1.3\n",
    "ini_K_10_d_c = 1.44"
   ]
  },
  {
   "cell_type": "code",
   "execution_count": null,
   "metadata": {},
   "outputs": [],
   "source": [
    "r_f /= 100\n",
    "r_d /= 100\n",
    "\n",
    "sigma_atm /= 100\n",
    "sigma_bf_25 /= 100\n",
    "sigma_rr_25 /= 100\n",
    "sigma_bf_10 /= 100\n",
    "sigma_rr_10 /= 100\n",
    "\n",
    "\"\"\"Df_f = 1 / math.exp(r_f * T)\n",
    "Df_d = 1 / math.exp(r_d * T)\"\"\"\n",
    "Df_f = 0.966001\n",
    "Df_d = 0.971049\n",
    "\n",
    "F_0 = spot * Df_f / Df_d\n",
    "print(f\"F_0 = {F_0}\")\n",
    "\n",
    "params = FX_params(r_d, r_f, T)\n",
    "volas = FX_market_data(sigma_atm, sigma_bf_25, sigma_rr_25, sigma_bf_10, sigma_rr_10)\n",
    "ini_calibrated_params = Calibrated_params(ini_alpha, ini_nu, ini_rho, ini_K_25_d_p, ini_K_25_d_c , ini_K_10_d_p, ini_K_10_d_c)"
   ]
  },
  {
   "cell_type": "code",
   "execution_count": null,
   "metadata": {},
   "outputs": [],
   "source": [
    "strike_calcurator = Strike_calcurator(params, F_0, volas)\n",
    "\n",
    "K_atm = strike_calcurator.get_atm_strike()\n",
    "K_25_d_p_ms = strike_calcurator.get_ms_strike(-0.25)\n",
    "K_25_d_c_ms = strike_calcurator.get_ms_strike(0.25)\n",
    "K_10_d_p_ms = strike_calcurator.get_ms_strike(-0.10)\n",
    "K_10_d_c_ms = strike_calcurator.get_ms_strike(0.10)\n",
    "print(f\"K_atm = {K_atm}\")\n",
    "print(f\"K_25_d_p_ms = {K_25_d_p_ms}\")\n",
    "print(f\"K_25_d_c_ms = {K_25_d_c_ms}\")\n",
    "print(f\"K_10_d_p_ms = {K_10_d_p_ms}\")\n",
    "print(f\"K_10_d_c_ms = {K_10_d_c_ms}\")"
   ]
  },
  {
   "cell_type": "code",
   "execution_count": null,
   "metadata": {},
   "outputs": [],
   "source": [
    "calibrator = Calibrator(params, F_0 , volas, fly_adjust_param)\n",
    "model = calibrator.calibrate(ini_calibrated_params)\n",
    "sabr_params = model.SABR_params()\n",
    "print(f\"alpha : {sabr_params['alpha']}, beta : {sabr_params['beta']}, nu : {sabr_params['nu']}, rho : {sabr_params['rho']}\")"
   ]
  },
  {
   "cell_type": "code",
   "execution_count": null,
   "metadata": {},
   "outputs": [],
   "source": [
    "strike_list = np.arange(0.9, 1.9, 0.01)\n",
    "calc_price_vector = np.vectorize(model.calc_plain_vanilla_price)\n",
    "price_list = calc_price_vector(strike_list, True)\n",
    "\n",
    "fig, ax = plt.subplots(1, 1, figsize = (15, 9))\n",
    "ax.plot(K_atm, volas.Sigma_atm(), 'o', label = \"Market ATM\")\n",
    "ax.plot(K_25_d_p_ms, volas.Sigma_ms_25(), 'o', label = \"Market 25% Strangle (put)\")\n",
    "ax.plot(K_25_d_c_ms, volas.Sigma_ms_25(), 'o', label = \"Market 25% Strangle (call)\")\n",
    "ax.plot(K_10_d_p_ms, volas.Sigma_ms_10(), 'o', label = \"Market 10% Strangle (put)\")\n",
    "ax.plot(K_10_d_c_ms, volas.Sigma_ms_10(), 'o', label = \"Market 10% Strangle (call)\")\n",
    "ax.plot(strike_list, price_list, label = \"smile\")\n",
    "ax.grid(True)\n",
    "ax.legend()\n",
    "pass"
   ]
  }
 ],
 "metadata": {
  "kernelspec": {
   "display_name": "base",
   "language": "python",
   "name": "python3"
  },
  "language_info": {
   "codemirror_mode": {
    "name": "ipython",
    "version": 3
   },
   "file_extension": ".py",
   "mimetype": "text/x-python",
   "name": "python",
   "nbconvert_exporter": "python",
   "pygments_lexer": "ipython3",
   "version": "3.11.9"
  }
 },
 "nbformat": 4,
 "nbformat_minor": 2
}
